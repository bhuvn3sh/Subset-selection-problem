{
  "nbformat": 4,
  "nbformat_minor": 0,
  "metadata": {
    "colab": {
      "provenance": [],
      "authorship_tag": "ABX9TyN8djs3uP29sKkjF35UhxFy",
      "include_colab_link": true
    },
    "kernelspec": {
      "name": "python3",
      "display_name": "Python 3"
    },
    "language_info": {
      "name": "python"
    }
  },
  "cells": [
    {
      "cell_type": "markdown",
      "metadata": {
        "id": "view-in-github",
        "colab_type": "text"
      },
      "source": [
        "<a href=\"https://colab.research.google.com/github/bhuvn3sh/Subset-selection-problem/blob/main/Subset_selection_problem.ipynb\" target=\"_parent\"><img src=\"https://colab.research.google.com/assets/colab-badge.svg\" alt=\"Open In Colab\"/></a>"
      ]
    },
    {
      "cell_type": "code",
      "execution_count": 1,
      "metadata": {
        "colab": {
          "base_uri": "https://localhost:8080/"
        },
        "id": "x7rAdem06Xdv",
        "outputId": "fa6d4f2f-3819-4808-90c0-adb85fca5eaa"
      },
      "outputs": [
        {
          "output_type": "stream",
          "name": "stdout",
          "text": [
            "(-4, -7, 3, 7, 1)\n",
            "(-7, -12, 11, 1, 7)\n",
            "(6, -6, -4, 9, -5)\n",
            "(-9, 9, -8, 6, 2)\n",
            "(-7, 7, -4, 1, 3)\n",
            "(-3, 11, 7, -7, -8)\n",
            "(2, 1, -7, -3, 7)\n",
            "(-8, 9, 1, -4, 2)\n",
            "(3, 11, 6, -8, -12)\n",
            "(2, -2, 7, -8, 1)\n",
            "(9, 2, 1, -3, -9)\n",
            "(2, 3, -7, -9, 11)\n",
            "(-8, 2, -7, 6, 7)\n",
            "(11, -2, -3, -8, 2)\n",
            "(11, -7, 9, -5, -8)\n",
            "(-8, -3, 3, 7, 1)\n",
            "(1, 9, -5, -12, 7)\n",
            "(-12, 3, 7, 6, -4)\n",
            "(1, -6, 6, 3, -4)\n",
            "(3, 11, 2, -4, -12)\n",
            "(-7, 2, 3, -4, 6)\n",
            "(-12, -9, 9, 11, 1)\n",
            "(-4, 2, -2, 7, -3)\n",
            "(3, -4, -12, 2, 11)\n",
            "(-6, 2, 11, -5, -2)\n",
            "(-7, 9, -3, 6, -5)\n",
            "(3, 1, -7, -6, 9)\n",
            "(-8, 7, -6, 11, -4)\n",
            "(2, 7, -3, -4, -2)\n",
            "(1, 9, 2, -3, -9)\n",
            "(9, -3, 6, -5, -7)\n",
            "(-8, 9, 1, -9, 7)\n",
            "(2, -9, -2, 3, 6)\n",
            "(-12, 9, 2, 6, -5)\n",
            "(-3, 1, -7, 6, 3)\n",
            "(-3, 11, 3, -7, -4)\n",
            "\n",
            "Total Sets:  36\n"
          ]
        },
        {
          "output_type": "stream",
          "name": "stderr",
          "text": [
            "<ipython-input-1-836a8b65f546>:11: DeprecationWarning: Sampling from a set deprecated\n",
            "since Python 3.9 and will be removed in a subsequent version.\n",
            "  Chromosome = r.sample(Set,SetSize)\n"
          ]
        }
      ],
      "source": [
        "\n",
        "import random as r\n",
        "\n",
        "Set         = set([-12, -3, -6, 7, 2, -2, 6, 3, 9, -7, -5, -8, 1, 11, -9, -4])\n",
        "SetSize     = 5\n",
        "ResultList  = set()\n",
        "Iterations  = 1000\n",
        "\n",
        "\n",
        "for i in range(Iterations):\n",
        "\n",
        "    Chromosome = r.sample(Set,SetSize)\n",
        "\n",
        "\n",
        "    if sum(Chromosome) == 0:\n",
        "        ResultList.add(tuple(Chromosome))\n",
        "\n",
        "for r in ResultList:\n",
        "\tprint (r)\n",
        "\n",
        "print (\"\\nTotal Sets: \", len(ResultList))"
      ]
    }
  ]
}